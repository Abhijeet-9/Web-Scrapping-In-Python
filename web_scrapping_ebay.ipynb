{
 "cells": [
  {
   "cell_type": "code",
   "execution_count": 3,
   "id": "b3605ade",
   "metadata": {},
   "outputs": [],
   "source": [
    "import csv\n",
    "import requests\n",
    "from bs4 import BeautifulSoup\n",
    "from decimal import Decimal"
   ]
  },
  {
   "cell_type": "code",
   "execution_count": 4,
   "id": "494a9756",
   "metadata": {},
   "outputs": [],
   "source": [
    "query = input('Enter product: ')\n",
    "free_shipping = input('Enter free shipping: ')\n",
    "max_price = Decimal(input('Enter maximum price: '))"
   ]
  },
  {
   "cell_type": "code",
   "execution_count": 5,
   "id": "46795032",
   "metadata": {},
   "outputs": [],
   "source": [
    "for i in range(1, 5):\n",
    "\twebsite = requests.get('https://www.ebay.com/sch/i.html?_nkw=' + query +'&_pgn=' + str(i)).text\n",
    "\tsoup = BeautifulSoup(website, 'html.parser')\n",
    "\titems = soup.select('.srp-results .s-item')\n",
    "\tfor item in items:\n",
    "\t\ttitle = item.h3.text\n",
    "\t\tprice = item.select_one('.s-item__price').text\n",
    "\t\tshipping = item.select_one('.s-item__shipping').text\n",
    "\t\tprice_decimal = Decimal(price.split(' to ')[0][1:])\n",
    "\t\tif price_decimal <= max_price:\n",
    "\t\t\tif free_shipping == 'y':\n",
    "\t\t\t\tif 'Free' in shipping:\n",
    "\t\t\t\t\tprint(f'{title}\\n{price}\\n{shipping}')\n",
    "\t\t\t\t\tprint('=================================')\n",
    "\t\t\telse:\n",
    "\t\t\t\tprint(f'{title}\\n{price}\\n{shipping}')\n",
    "\t\t\t\tprint('=================================')"
   ]
  }
 ],
 "metadata": {
  "kernelspec": {
   "display_name": "Python 3 (ipykernel)",
   "language": "python",
   "name": "python3"
  },
  "language_info": {
   "codemirror_mode": {
    "name": "ipython",
    "version": 3
   },
   "file_extension": ".py",
   "mimetype": "text/x-python",
   "name": "python",
   "nbconvert_exporter": "python",
   "pygments_lexer": "ipython3",
   "version": "3.10.4"
  }
 },
 "nbformat": 4,
 "nbformat_minor": 5
}
